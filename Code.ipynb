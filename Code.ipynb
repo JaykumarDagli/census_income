{
 "cells": [
  {
   "cell_type": "code",
   "execution_count": 1,
   "metadata": {},
   "outputs": [],
   "source": [
    "import pandas as pd\n",
    "import numpy as np\n",
    "from sklearn.model_selection import cross_val_score\n",
    "from sklearn.model_selection import train_test_split\n",
    "from sklearn.linear_model import LogisticRegression\n",
    "from sklearn.metrics import roc_auc_score, confusion_matrix\n",
    "from sklearn import metrics\n",
    "from sklearn.metrics import mean_squared_error\n",
    "import warnings\n",
    "warnings.filterwarnings('ignore')\n",
    "from sklearn.model_selection import GridSearchCV\n",
    "from sklearn.tree import DecisionTreeClassifier"
   ]
  },
  {
   "cell_type": "code",
   "execution_count": 2,
   "metadata": {},
   "outputs": [],
   "source": [
    "df=pd.read_csv('C:/Users/Jay/Desktop/Python/EdvancerData/Data/census_income.csv')"
   ]
  },
  {
   "cell_type": "code",
   "execution_count": 3,
   "metadata": {},
   "outputs": [
    {
     "data": {
      "text/html": [
       "<div>\n",
       "<style scoped>\n",
       "    .dataframe tbody tr th:only-of-type {\n",
       "        vertical-align: middle;\n",
       "    }\n",
       "\n",
       "    .dataframe tbody tr th {\n",
       "        vertical-align: top;\n",
       "    }\n",
       "\n",
       "    .dataframe thead th {\n",
       "        text-align: right;\n",
       "    }\n",
       "</style>\n",
       "<table border=\"1\" class=\"dataframe\">\n",
       "  <thead>\n",
       "    <tr style=\"text-align: right;\">\n",
       "      <th></th>\n",
       "      <th>age</th>\n",
       "      <th>workclass</th>\n",
       "      <th>fnlwgt</th>\n",
       "      <th>education</th>\n",
       "      <th>education.num</th>\n",
       "      <th>marital.status</th>\n",
       "      <th>occupation</th>\n",
       "      <th>relationship</th>\n",
       "      <th>race</th>\n",
       "      <th>sex</th>\n",
       "      <th>capital.gain</th>\n",
       "      <th>capital.loss</th>\n",
       "      <th>hours.per.week</th>\n",
       "      <th>native.country</th>\n",
       "      <th>Y</th>\n",
       "    </tr>\n",
       "  </thead>\n",
       "  <tbody>\n",
       "    <tr>\n",
       "      <td>0</td>\n",
       "      <td>39</td>\n",
       "      <td>State-gov</td>\n",
       "      <td>77516</td>\n",
       "      <td>Bachelors</td>\n",
       "      <td>13</td>\n",
       "      <td>Never-married</td>\n",
       "      <td>Adm-clerical</td>\n",
       "      <td>Not-in-family</td>\n",
       "      <td>White</td>\n",
       "      <td>Male</td>\n",
       "      <td>2174</td>\n",
       "      <td>0</td>\n",
       "      <td>40</td>\n",
       "      <td>United-States</td>\n",
       "      <td>&lt;=50K</td>\n",
       "    </tr>\n",
       "    <tr>\n",
       "      <td>1</td>\n",
       "      <td>50</td>\n",
       "      <td>Self-emp-not-inc</td>\n",
       "      <td>83311</td>\n",
       "      <td>Bachelors</td>\n",
       "      <td>13</td>\n",
       "      <td>Married-civ-spouse</td>\n",
       "      <td>Exec-managerial</td>\n",
       "      <td>Husband</td>\n",
       "      <td>White</td>\n",
       "      <td>Male</td>\n",
       "      <td>0</td>\n",
       "      <td>0</td>\n",
       "      <td>13</td>\n",
       "      <td>United-States</td>\n",
       "      <td>&lt;=50K</td>\n",
       "    </tr>\n",
       "    <tr>\n",
       "      <td>2</td>\n",
       "      <td>38</td>\n",
       "      <td>Private</td>\n",
       "      <td>215646</td>\n",
       "      <td>HS-grad</td>\n",
       "      <td>9</td>\n",
       "      <td>Divorced</td>\n",
       "      <td>Handlers-cleaners</td>\n",
       "      <td>Not-in-family</td>\n",
       "      <td>White</td>\n",
       "      <td>Male</td>\n",
       "      <td>0</td>\n",
       "      <td>0</td>\n",
       "      <td>40</td>\n",
       "      <td>United-States</td>\n",
       "      <td>&lt;=50K</td>\n",
       "    </tr>\n",
       "    <tr>\n",
       "      <td>3</td>\n",
       "      <td>53</td>\n",
       "      <td>Private</td>\n",
       "      <td>234721</td>\n",
       "      <td>11th</td>\n",
       "      <td>7</td>\n",
       "      <td>Married-civ-spouse</td>\n",
       "      <td>Handlers-cleaners</td>\n",
       "      <td>Husband</td>\n",
       "      <td>Black</td>\n",
       "      <td>Male</td>\n",
       "      <td>0</td>\n",
       "      <td>0</td>\n",
       "      <td>40</td>\n",
       "      <td>United-States</td>\n",
       "      <td>&lt;=50K</td>\n",
       "    </tr>\n",
       "    <tr>\n",
       "      <td>4</td>\n",
       "      <td>28</td>\n",
       "      <td>Private</td>\n",
       "      <td>338409</td>\n",
       "      <td>Bachelors</td>\n",
       "      <td>13</td>\n",
       "      <td>Married-civ-spouse</td>\n",
       "      <td>Prof-specialty</td>\n",
       "      <td>Wife</td>\n",
       "      <td>Black</td>\n",
       "      <td>Female</td>\n",
       "      <td>0</td>\n",
       "      <td>0</td>\n",
       "      <td>40</td>\n",
       "      <td>Cuba</td>\n",
       "      <td>&lt;=50K</td>\n",
       "    </tr>\n",
       "  </tbody>\n",
       "</table>\n",
       "</div>"
      ],
      "text/plain": [
       "   age          workclass  fnlwgt   education  education.num  \\\n",
       "0   39          State-gov   77516   Bachelors             13   \n",
       "1   50   Self-emp-not-inc   83311   Bachelors             13   \n",
       "2   38            Private  215646     HS-grad              9   \n",
       "3   53            Private  234721        11th              7   \n",
       "4   28            Private  338409   Bachelors             13   \n",
       "\n",
       "        marital.status          occupation    relationship    race      sex  \\\n",
       "0        Never-married        Adm-clerical   Not-in-family   White     Male   \n",
       "1   Married-civ-spouse     Exec-managerial         Husband   White     Male   \n",
       "2             Divorced   Handlers-cleaners   Not-in-family   White     Male   \n",
       "3   Married-civ-spouse   Handlers-cleaners         Husband   Black     Male   \n",
       "4   Married-civ-spouse      Prof-specialty            Wife   Black   Female   \n",
       "\n",
       "   capital.gain  capital.loss  hours.per.week  native.country       Y  \n",
       "0          2174             0              40   United-States   <=50K  \n",
       "1             0             0              13   United-States   <=50K  \n",
       "2             0             0              40   United-States   <=50K  \n",
       "3             0             0              40   United-States   <=50K  \n",
       "4             0             0              40            Cuba   <=50K  "
      ]
     },
     "execution_count": 3,
     "metadata": {},
     "output_type": "execute_result"
    }
   ],
   "source": [
    "df.head()\n",
    "#The dependent variable that needs to be predicted is Y i.e. based on the data we need to check if an individual would make more than 50K or less than it"
   ]
  },
  {
   "cell_type": "markdown",
   "metadata": {},
   "source": [
    "## Cleaning data"
   ]
  },
  {
   "cell_type": "code",
   "execution_count": 4,
   "metadata": {},
   "outputs": [
    {
     "name": "stdout",
     "output_type": "stream",
     "text": [
      "<class 'pandas.core.frame.DataFrame'>\n",
      "RangeIndex: 32561 entries, 0 to 32560\n",
      "Data columns (total 15 columns):\n",
      "age               32561 non-null int64\n",
      "workclass         32561 non-null object\n",
      "fnlwgt            32561 non-null int64\n",
      "education         32561 non-null object\n",
      "education.num     32561 non-null int64\n",
      "marital.status    32561 non-null object\n",
      "occupation        32561 non-null object\n",
      "relationship      32561 non-null object\n",
      "race              32561 non-null object\n",
      "sex               32561 non-null object\n",
      "capital.gain      32561 non-null int64\n",
      "capital.loss      32561 non-null int64\n",
      "hours.per.week    32561 non-null int64\n",
      "native.country    32561 non-null object\n",
      "Y                 32561 non-null object\n",
      "dtypes: int64(6), object(9)\n",
      "memory usage: 3.7+ MB\n"
     ]
    }
   ],
   "source": [
    "df.info()"
   ]
  },
  {
   "cell_type": "code",
   "execution_count": 5,
   "metadata": {},
   "outputs": [],
   "source": [
    "#checking relation between education and education num\n",
    "pd.crosstab(df['education'],df['education.num'])\n",
    "\n",
    "#after checking the tabular format we conclude that both are related and one can be dropped, we choose to drop 'education' as it is object type\n",
    "del df['education']"
   ]
  },
  {
   "cell_type": "code",
   "execution_count": 6,
   "metadata": {},
   "outputs": [
    {
     "data": {
      "text/plain": [
       "Index(['workclass', 'marital.status', 'occupation', 'relationship', 'race',\n",
       "       'sex', 'native.country', 'Y'],\n",
       "      dtype='object')"
      ]
     },
     "execution_count": 6,
     "metadata": {},
     "output_type": "execute_result"
    }
   ],
   "source": [
    "#Checking for other object type columns \n",
    "cat_cols=df.select_dtypes(include=['object']).columns\n",
    "cat_cols"
   ]
  },
  {
   "cell_type": "code",
   "execution_count": 7,
   "metadata": {},
   "outputs": [
    {
     "data": {
      "text/plain": [
       "0    24720\n",
       "1     7841\n",
       "Name: Y, dtype: int64"
      ]
     },
     "execution_count": 7,
     "metadata": {},
     "output_type": "execute_result"
    }
   ],
   "source": [
    "#we can convert Y to 0,1 based on the 50K condition\n",
    "df['Y'].value_counts()\n",
    "\n",
    "df['Y'].dtype\n",
    "\n",
    "df['Y']=np.where(df['Y']==\" <=50K\",0,1)\n",
    "\n",
    "df['Y'].value_counts()"
   ]
  },
  {
   "cell_type": "code",
   "execution_count": 8,
   "metadata": {},
   "outputs": [
    {
     "data": {
      "text/plain": [
       "sex                2\n",
       "race               5\n",
       "relationship       6\n",
       "marital.status     7\n",
       "workclass          9\n",
       "occupation        15\n",
       "native.country    42\n",
       "dtype: int64"
      ]
     },
     "execution_count": 8,
     "metadata": {},
     "output_type": "execute_result"
    }
   ],
   "source": [
    "#Among these, we'll check the number of unique values each column takes so that we can decide how they can be converted to int\n",
    "df.select_dtypes(include=['object']).nunique().sort_values()"
   ]
  },
  {
   "cell_type": "code",
   "execution_count": 9,
   "metadata": {},
   "outputs": [
    {
     "data": {
      "text/plain": [
       " United-States    29170\n",
       " Mexico             643\n",
       " ?                  583\n",
       " Philippines        198\n",
       " Germany            137\n",
       " Canada             121\n",
       " Puerto-Rico        114\n",
       " El-Salvador        106\n",
       " India              100\n",
       "Name: native.country, dtype: int64"
      ]
     },
     "execution_count": 9,
     "metadata": {},
     "output_type": "execute_result"
    }
   ],
   "source": [
    "#the issue might only be in native country, as it takes 42 unique values, we'd have 41 dummy variables which will increase the data size\n",
    "#thus, checking the freq of those unique values\n",
    "counts=df['native.country'].value_counts()\n",
    "\n",
    "#a lot of the unique values have very low frequency and thus we choose to ignore them and instead consider values with freq>100\n",
    "df=df[~df['native.country'].isin(counts[counts < 100].index)]\n",
    "\n",
    "df['native.country'].value_counts()"
   ]
  },
  {
   "cell_type": "code",
   "execution_count": 10,
   "metadata": {},
   "outputs": [
    {
     "data": {
      "text/plain": [
       "Index(['workclass', 'marital.status', 'occupation', 'relationship', 'race',\n",
       "       'sex', 'native.country'],\n",
       "      dtype='object')"
      ]
     },
     "execution_count": 10,
     "metadata": {},
     "output_type": "execute_result"
    }
   ],
   "source": [
    "#now that we have limited number of unique values, we will convert these cols to numeric\n",
    "cat_cols=df.select_dtypes(include=['object']).columns\n",
    "cat_cols"
   ]
  },
  {
   "cell_type": "code",
   "execution_count": 11,
   "metadata": {},
   "outputs": [
    {
     "name": "stdout",
     "output_type": "stream",
     "text": [
      "workclass\n",
      "marital.status\n",
      "occupation\n",
      "relationship\n",
      "race\n",
      "sex\n",
      "native.country\n"
     ]
    }
   ],
   "source": [
    "#converting all to dummies and deleting the original column\n",
    "for col in cat_cols:\n",
    "    dummy=pd.get_dummies(df[col],prefix=col,drop_first=True)\n",
    "    df=pd.concat([df,dummy],axis=1)\n",
    "    print(col)\n",
    "    del df[col]\n",
    "del dummy"
   ]
  },
  {
   "cell_type": "code",
   "execution_count": 12,
   "metadata": {},
   "outputs": [
    {
     "name": "stdout",
     "output_type": "stream",
     "text": [
      "<class 'pandas.core.frame.DataFrame'>\n",
      "Int64Index: 31172 entries, 0 to 32560\n",
      "Data columns (total 53 columns):\n",
      "age                                      31172 non-null int64\n",
      "fnlwgt                                   31172 non-null int64\n",
      "education.num                            31172 non-null int64\n",
      "capital.gain                             31172 non-null int64\n",
      "capital.loss                             31172 non-null int64\n",
      "hours.per.week                           31172 non-null int64\n",
      "Y                                        31172 non-null int32\n",
      "workclass_ Federal-gov                   31172 non-null uint8\n",
      "workclass_ Local-gov                     31172 non-null uint8\n",
      "workclass_ Never-worked                  31172 non-null uint8\n",
      "workclass_ Private                       31172 non-null uint8\n",
      "workclass_ Self-emp-inc                  31172 non-null uint8\n",
      "workclass_ Self-emp-not-inc              31172 non-null uint8\n",
      "workclass_ State-gov                     31172 non-null uint8\n",
      "workclass_ Without-pay                   31172 non-null uint8\n",
      "marital.status_ Married-AF-spouse        31172 non-null uint8\n",
      "marital.status_ Married-civ-spouse       31172 non-null uint8\n",
      "marital.status_ Married-spouse-absent    31172 non-null uint8\n",
      "marital.status_ Never-married            31172 non-null uint8\n",
      "marital.status_ Separated                31172 non-null uint8\n",
      "marital.status_ Widowed                  31172 non-null uint8\n",
      "occupation_ Adm-clerical                 31172 non-null uint8\n",
      "occupation_ Armed-Forces                 31172 non-null uint8\n",
      "occupation_ Craft-repair                 31172 non-null uint8\n",
      "occupation_ Exec-managerial              31172 non-null uint8\n",
      "occupation_ Farming-fishing              31172 non-null uint8\n",
      "occupation_ Handlers-cleaners            31172 non-null uint8\n",
      "occupation_ Machine-op-inspct            31172 non-null uint8\n",
      "occupation_ Other-service                31172 non-null uint8\n",
      "occupation_ Priv-house-serv              31172 non-null uint8\n",
      "occupation_ Prof-specialty               31172 non-null uint8\n",
      "occupation_ Protective-serv              31172 non-null uint8\n",
      "occupation_ Sales                        31172 non-null uint8\n",
      "occupation_ Tech-support                 31172 non-null uint8\n",
      "occupation_ Transport-moving             31172 non-null uint8\n",
      "relationship_ Not-in-family              31172 non-null uint8\n",
      "relationship_ Other-relative             31172 non-null uint8\n",
      "relationship_ Own-child                  31172 non-null uint8\n",
      "relationship_ Unmarried                  31172 non-null uint8\n",
      "relationship_ Wife                       31172 non-null uint8\n",
      "race_ Asian-Pac-Islander                 31172 non-null uint8\n",
      "race_ Black                              31172 non-null uint8\n",
      "race_ Other                              31172 non-null uint8\n",
      "race_ White                              31172 non-null uint8\n",
      "sex_ Male                                31172 non-null uint8\n",
      "native.country_ Canada                   31172 non-null uint8\n",
      "native.country_ El-Salvador              31172 non-null uint8\n",
      "native.country_ Germany                  31172 non-null uint8\n",
      "native.country_ India                    31172 non-null uint8\n",
      "native.country_ Mexico                   31172 non-null uint8\n",
      "native.country_ Philippines              31172 non-null uint8\n",
      "native.country_ Puerto-Rico              31172 non-null uint8\n",
      "native.country_ United-States            31172 non-null uint8\n",
      "dtypes: int32(1), int64(6), uint8(46)\n",
      "memory usage: 3.2 MB\n"
     ]
    }
   ],
   "source": [
    "df.info()"
   ]
  },
  {
   "cell_type": "markdown",
   "metadata": {},
   "source": [
    "## Modelling"
   ]
  },
  {
   "cell_type": "code",
   "execution_count": 13,
   "metadata": {},
   "outputs": [],
   "source": [
    "df_train, df_test=train_test_split(df, test_size=0.2, random_state=2)"
   ]
  },
  {
   "cell_type": "code",
   "execution_count": 14,
   "metadata": {},
   "outputs": [],
   "source": [
    "x_train = df_train.drop(['Y'],axis=1)\n",
    "y_train = df_train['Y']\n",
    "\n",
    "x_test = df_test.drop(['Y'],axis=1)\n",
    "y_test = df_test['Y']"
   ]
  },
  {
   "cell_type": "markdown",
   "metadata": {},
   "source": [
    "### Logistic Regression"
   ]
  },
  {
   "cell_type": "code",
   "execution_count": 15,
   "metadata": {},
   "outputs": [],
   "source": [
    "# logr=LogisticRegression()\n",
    "\n",
    "# logr.fit(x_train, y_train)\n",
    "\n",
    "# pred=logr.predict_proba(x_test)[:,1]\n",
    "\n",
    "# print(roc_auc_score(y_test,pred))\n",
    "\n",
    "# pred1=logr.predict(x_test)\n",
    "\n",
    "# logr.score(x_test, y_test)\n",
    "\n",
    "# cnf_matrix = metrics.confusion_matrix(y_test, pred1)\n",
    "# cnf_matrix\n",
    "\n",
    "# accuracy=metrics.accuracy_score(y_test,pred1)\n",
    "# precision=metrics.precision_score(y_test,pred1)\n",
    "# recall=metrics.recall_score(y_test,pred1)\n",
    "# print('acc: ' + str(accuracy) + ' ' + 'precision: ' + str(precision) + ' ' + 'recall: ' + str(recall) )\n",
    "\n",
    "# rmse=np.sqrt(mean_squared_error(y_test,pred1))\n",
    "# rmse\n",
    "\n",
    "# #read: https://www.datacamp.com/community/tutorials/understanding-logistic-regression-python"
   ]
  },
  {
   "cell_type": "markdown",
   "metadata": {},
   "source": [
    "### Logistic Regression w/ hyperparameter tuning"
   ]
  },
  {
   "cell_type": "code",
   "execution_count": 16,
   "metadata": {},
   "outputs": [],
   "source": [
    "# logr_ht=LogisticRegression()\n",
    "# logr_ht\n",
    "\n",
    "# c_range=[0.001,0.01,0.1,1.0,10]\n",
    "\n",
    "# for i in c_range:\n",
    "#     logr_ht=LogisticRegression(C=i)\n",
    "#     logr_ht.fit(x_train, y_train)\n",
    "#     pred=logr_ht.predict_proba(x_test)[:,1]\n",
    "#     print(i , ' ' ,  roc_auc_score(y_test, pred))\n",
    "\n",
    "# #With grid search CV we can check multiple combinations at once\n",
    "# penalty=['l1','l2']\n",
    "# c_range=[0.001,0.01,0.1,1.0,10]\n",
    "# class_weight = [None, 'balanced']\n",
    "\n",
    "# param_grid = dict(penalty=penalty, C=c_range, class_weight=class_weight)\n",
    "\n",
    "# grid=GridSearchCV(estimator=logr, param_grid=param_grid, scoring='roc_auc', verbose=1, n_jobs=-1)\n",
    "\n",
    "# grid_result=grid.fit(x_train, y_train)\n",
    "\n",
    "# grid_result.best_score_\n",
    "\n",
    "# grid_result.best_params_\n",
    "\n",
    "# #read: https://towardsdatascience.com/hyperparameter-tuning-c5619e7e6624\n",
    "\n",
    "# #now, creating model with best params and checking the prediction\n",
    "# logr_best = LogisticRegression(C=1.0, class_weight='balanced', penalty='l1')\n",
    "# logr_best\n",
    "\n",
    "# logr_best.fit(x_train, y_train)\n",
    "\n",
    "# pred_bt=logr_best.predict_proba(x_test)[:,1]\n",
    "\n",
    "# roc_auc_score(y_test, pred_bt)"
   ]
  },
  {
   "cell_type": "markdown",
   "metadata": {},
   "source": [
    "### Logistic Regression w/ K Fold cross validation"
   ]
  },
  {
   "cell_type": "code",
   "execution_count": 17,
   "metadata": {},
   "outputs": [],
   "source": [
    "# logr_k = LogisticRegression()\n",
    "\n",
    "# cv_result = cross_val_score(logr_k, x_train, y_train,cv=5,scoring='roc_auc', n_jobs=-1)\n",
    "# #cv_result\n",
    "\n",
    "# cv_result = cross_val_score(logr_k, x_test, y_test,cv=5,scoring='roc_auc', n_jobs=-1)\n",
    "# cv_result"
   ]
  },
  {
   "cell_type": "markdown",
   "metadata": {},
   "source": [
    "### Logistic Regression w/ Hyperparameter and K fold"
   ]
  },
  {
   "cell_type": "code",
   "execution_count": 18,
   "metadata": {},
   "outputs": [],
   "source": [
    "# logr_best = LogisticRegression(C=1.0, class_weight='balanced', penalty='l1')\n",
    "\n",
    "# cv_result = cross_val_score(logr_best, x_train, y_train,cv=5,scoring='roc_auc', n_jobs=-1)\n",
    "# #cv_result\n",
    "\n",
    "# cv_result = cross_val_score(logr_best, x_test, y_test,cv=5,scoring='roc_auc', n_jobs=-1)\n",
    "# cv_result"
   ]
  },
  {
   "cell_type": "markdown",
   "metadata": {},
   "source": [
    "### Logistic Regression w/ Hyperparameter value without checking manually"
   ]
  },
  {
   "cell_type": "code",
   "execution_count": 19,
   "metadata": {},
   "outputs": [],
   "source": [
    "# logr_ht=LogisticRegression()\n",
    "# logr_ht\n",
    "# roc_dict={}\n",
    "\n",
    "# c_range=[0.001,0.01,0.1,1.0,10]\n",
    "\n",
    "# for i in c_range:\n",
    "#     logr_ht=LogisticRegression(C=i)\n",
    "#     logr_ht.fit(x_train, y_train)\n",
    "#     pred=logr_ht.predict_proba(x_test)[:,1]\n",
    "#     r1=roc_auc_score(y_test, pred)\n",
    "#     roc_dict[i]=r1\n",
    "\n",
    "# roc_dict\n",
    "\n",
    "# Keymax = max(roc_dict, key=roc_dict.get) \n",
    "# print(Keymax) "
   ]
  },
  {
   "cell_type": "markdown",
   "metadata": {},
   "source": [
    "### Decision tree"
   ]
  },
  {
   "cell_type": "code",
   "execution_count": 20,
   "metadata": {},
   "outputs": [],
   "source": [
    "# dtree=DecisionTreeClassifier()\n",
    "\n",
    "# dtree.fit(x_train,y_train)\n",
    "\n",
    "# pred=dtree.predict(x_test)\n",
    "\n",
    "# print(roc_auc_score(y_test, pred))\n",
    "\n",
    "# cnf_matrix = metrics.confusion_matrix(y_test, pred)\n",
    "# cnf_matrix\n",
    "\n",
    "# accuracy=metrics.accuracy_score(y_test,pred)\n",
    "# precision=metrics.precision_score(y_test,pred)\n",
    "# recall=metrics.recall_score(y_test,pred)\n",
    "# print('acc: ' + str(accuracy) + ' ' + 'precision: ' + str(precision) + ' ' + 'recall: ' + str(recall) )\n",
    "\n",
    "# rmse=np.sqrt(mean_squared_error(y_test,pred))\n",
    "# print(rmse)"
   ]
  },
  {
   "cell_type": "markdown",
   "metadata": {},
   "source": [
    "### Decision Tree + K Fold"
   ]
  },
  {
   "cell_type": "code",
   "execution_count": 24,
   "metadata": {},
   "outputs": [],
   "source": [
    "# dtree_k = DecisionTreeClassifier()\n",
    "\n",
    "# cv_result = cross_val_score(dtree_k, x_train, y_train,cv=5,scoring='roc_auc', n_jobs=-1)\n",
    "# #print(cv_result)\n",
    "\n",
    "# cv_result = cross_val_score(dtree_k, x_test, y_test,cv=5,scoring='roc_auc', n_jobs=-1)\n",
    "# cv_result"
   ]
  },
  {
   "cell_type": "markdown",
   "metadata": {},
   "source": [
    "### Decision tree + Hyper [only max nodes]"
   ]
  },
  {
   "cell_type": "code",
   "execution_count": 53,
   "metadata": {},
   "outputs": [],
   "source": [
    "# max_node_list = [5,7,10,16,20,30,45,50,70]\n",
    "\n",
    "# roc_dict = {}\n",
    "\n",
    "# for i in max_node_list:\n",
    "#     dtree_m = DecisionTreeClassifier(max_leaf_nodes=i)\n",
    "#     dtree_m.fit(x_train, y_train)\n",
    "#     pred=dtree_m.predict(x_test)\n",
    "#     r1=roc_auc_score(y_test,pred)\n",
    "#     roc_dict[i]=r1\n",
    "  \n",
    "# Keymax = max(roc_dict, key=roc_dict.get) \n",
    "# print(Keymax) \n",
    "# print(roc_dict)"
   ]
  },
  {
   "cell_type": "markdown",
   "metadata": {},
   "source": [
    "### Decision tree + Hyper parameters"
   ]
  },
  {
   "cell_type": "code",
   "execution_count": 70,
   "metadata": {
    "scrolled": true
   },
   "outputs": [],
   "source": [
    "# param_dist = { 'criterion' : ['gini','entropy'],\n",
    "#                'max_depth' : [3,5,10,50,None],\n",
    "#                'min_samples_split':[2,5,10,15],\n",
    "#                'min_samples_leaf':[1,5,10,15],\n",
    "#                'class_weight':['balanced',None],\n",
    "#                 'max_leaf_nodes' :[5,7,10,16,20,30,45,50,70]\n",
    "#                 }\n",
    "\n",
    "# dtree_ht=DecisionTreeClassifier()\n",
    "\n",
    "# grid=GridSearchCV(estimator=dtree_ht, param_grid=param_dist, scoring='roc_auc', verbose=1, n_jobs=-1)\n",
    "\n",
    "# grid_result=grid.fit(x_train, y_train)\n",
    "\n",
    "# # print(grid_result.best_score_)\n",
    "\n",
    "# print(grid_result.best_params_)\n",
    "\n",
    "\n",
    "#using beat params on train dataset\n",
    "# dtree_best = DecisionTreeClassifier(criterion='entropy', class_weight='balanced', max_depth=50, min_samples_leaf=45, min_samples_split=2)\n",
    "\n",
    "# dtree_best.fit(x_train, y_train)\n",
    "\n",
    "# pred_d_best=dtree_best.predict(x_test)\n",
    "# pred\n",
    "\n",
    "# roc_auc_score(y_test, pred)"
   ]
  },
  {
   "cell_type": "markdown",
   "metadata": {},
   "source": [
    "### Decision tree + Hyper + K Fold"
   ]
  },
  {
   "cell_type": "code",
   "execution_count": 72,
   "metadata": {},
   "outputs": [],
   "source": [
    "# dtree_best = DecisionTreeClassifier(criterion='entropy', class_weight='balanced', max_depth=50, min_samples_leaf=45, min_samples_split=2)\n",
    "\n",
    "# cv_result = cross_val_score(dtree_best, x_train, y_train,cv=5,scoring='roc_auc', n_jobs=-1)\n",
    "# cv_result\n",
    "\n",
    "# cv_result = cross_val_score(dtree_best, x_test, y_test,cv=5,scoring='roc_auc', n_jobs=-1)\n",
    "# cv_result"
   ]
  },
  {
   "cell_type": "code",
   "execution_count": null,
   "metadata": {},
   "outputs": [],
   "source": []
  }
 ],
 "metadata": {
  "kernelspec": {
   "display_name": "Python 3",
   "language": "python",
   "name": "python3"
  },
  "language_info": {
   "codemirror_mode": {
    "name": "ipython",
    "version": 3
   },
   "file_extension": ".py",
   "mimetype": "text/x-python",
   "name": "python",
   "nbconvert_exporter": "python",
   "pygments_lexer": "ipython3",
   "version": "3.7.4"
  }
 },
 "nbformat": 4,
 "nbformat_minor": 2
}
